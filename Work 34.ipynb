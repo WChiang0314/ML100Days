{
 "cells": [
  {
   "cell_type": "code",
   "execution_count": null,
   "metadata": {},
   "outputs": [],
   "source": [
    "#[思考題] 哪一個問題不適合用資料科學解決？\n",
    "\n",
    "#今天課程中以一個案例，說明資料分析的流程與探索性分析，是否對於課程中一開始的問題，更有想法了？\n",
    "\n",
    "#挑選 Mr./Ms. Right\n",
    "#顧客下次會買哪些東西？\n",
    "#半導體的良率預測？\n",
    "\n",
    "#Q1：哪一個問題不適合用資料科學解決？\n",
    "#Q2：以你的角度來分析，為什麼這樣的問題，較不適合用資料來解決？\n"
   ]
  },
  {
   "cell_type": "code",
   "execution_count": null,
   "metadata": {},
   "outputs": [],
   "source": [
    "#A1: 挑選Ｍr./Ms. Right 不適合以科學討論\n",
    "#A2: 因為每個人會有不同的理想對象，亦即沒有辦法判斷或搜集代表性樣本。\n",
    "#     故不適合用統計分析此議題。"
   ]
  }
 ],
 "metadata": {
  "kernelspec": {
   "display_name": "Python 3",
   "language": "python",
   "name": "python3"
  },
  "language_info": {
   "codemirror_mode": {
    "name": "ipython",
    "version": 3
   },
   "file_extension": ".py",
   "mimetype": "text/x-python",
   "name": "python",
   "nbconvert_exporter": "python",
   "pygments_lexer": "ipython3",
   "version": "3.8.5"
  }
 },
 "nbformat": 4,
 "nbformat_minor": 4
}
