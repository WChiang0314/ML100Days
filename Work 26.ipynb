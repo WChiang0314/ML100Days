{
 "cells": [
  {
   "cell_type": "code",
   "execution_count": 1,
   "metadata": {},
   "outputs": [],
   "source": [
    "# library\n",
    "import matplotlib.pyplot as plt\n",
    "import numpy as np\n",
    "import pandas as pd\n",
    "from scipy import stats\n",
    "import math\n",
    "import statistics\n",
    "import seaborn as sns"
   ]
  },
  {
   "cell_type": "code",
   "execution_count": 5,
   "metadata": {},
   "outputs": [],
   "source": [
    "boys=[164, 175, 183, 173, 176, 159, 165, 165, 169, 151, 156, 163, 169, 144,\n",
    " 170, 177, 165, 160, 164, 171]\n",
    "girls=[169, 170, 162, 154, 183, 173, 169, 167, 170, 185, 162, 175, 168, 151,\n",
    " 181, 170, 182, 156, 159, 160]"
   ]
  },
  {
   "cell_type": "code",
   "execution_count": 7,
   "metadata": {},
   "outputs": [
    {
     "name": "stdout",
     "output_type": "stream",
     "text": [
      "男孩身高平均數= 165.95 男孩身高中位數= 165.0 男孩身高眾數= 165 男孩身高全距= 39 男孩身高標準差= 165 男孩身高眾數= 9.213691185575838\n",
      "女孩身高平均數= 168.3 女孩身高中位數= 169.0 女孩身高眾數= 170 女孩身高全距= 34 女孩身高標準差= 170 女孩身高眾數= 9.766214587465353\n"
     ]
    }
   ],
   "source": [
    "#Q1:試著用今天所教的內容，如何描述這兩組資料的樣態?\n",
    "#暗示:  分別計算男生和女生的統計量\n",
    "\n",
    "mean_boy=np.mean(boys)\n",
    "mean_girls=np.mean(girls)\n",
    "median_boy=np.median(boys,axis=None)\n",
    "median_girls=np.median(girls,axis=None)\n",
    "mode_boy=statistics.mode(boys)\n",
    "mode_girls=statistics.mode(girls)\n",
    "range_boy=max(boys)-min(boys)\n",
    "range_girls=max(girls)-min(girls)\n",
    "std_boy=statistics.stdev(boys)\n",
    "std_girls=statistics.stdev(girls)\n",
    "\n",
    "\n",
    "print(\"男孩身高平均數=\",mean_boy,\"男孩身高中位數=\",median_boy,\"男孩身高眾數=\",mode_boy,\"男孩身高全距=\",range_boy,\"男孩身高標準差=\",mode_boy,\"男孩身高眾數=\",std_boy)\n",
    "print(\"女孩身高平均數=\",mean_girls,\"女孩身高中位數=\",median_girls,\"女孩身高眾數=\",mode_girls,\"女孩身高全距=\",range_girls,\"女孩身高標準差=\",mode_girls,\"女孩身高眾數=\",std_girls)\n",
    "\n"
   ]
  },
  {
   "cell_type": "code",
   "execution_count": 21,
   "metadata": {},
   "outputs": [
    {
     "name": "stdout",
     "output_type": "stream",
     "text": [
      "女孩身高較高\n"
     ]
    }
   ],
   "source": [
    "#Q2: 請問男生和女生在平均身高上誰比較高? \n",
    "\n",
    "if (mean_boy) >= (mean_girls):\n",
    "    print(\"男孩身高較高\")\n",
    "else:\n",
    "    print(\"女孩身高較高\")"
   ]
  },
  {
   "cell_type": "code",
   "execution_count": 22,
   "metadata": {},
   "outputs": [
    {
     "data": {
      "image/png": "[encoded data removed]",
      "text/plain": [
       "<Figure size 432x288 with 1 Axes>"
      ]
     },
     "metadata": {
      "needs_background": "light"
     },
     "output_type": "display_data"
    }
   ],
   "source": [
    "#Q3:請問第二題的答案和日常生活中觀察的一致嗎? 如果不一致，你覺得原因可能為何? \n",
    "plt.hist(boys,alpha=.4,bins=40)\n",
    "plt.title('boy,skewness={0},kurtosis={1}'.format(round(stats.skew(boys),2),round(stats.kurtosis(boys),2)))\n",
    "plt.axvline(x=mean_boy)\n",
    "plt.show()"
   ]
  },
  {
   "cell_type": "code",
   "execution_count": 24,
   "metadata": {},
   "outputs": [
    {
     "data": {
      "image/png": "[encoded data removed]",
      "text/plain": [
       "<Figure size 432x288 with 1 Axes>"
      ]
     },
     "metadata": {
      "needs_background": "light"
     },
     "output_type": "display_data"
    }
   ],
   "source": [
    "plt.hist(girls,alpha=.4,bins=40)\n",
    "plt.title('girls,skewness={0},kurtosis={1}'.format(round(stats.skew(girls),2),round(stats.kurtosis(girls),2)))\n",
    "plt.axvline(x=mean_girls)\n",
    "plt.show()"
   ]
  },
  {
   "cell_type": "code",
   "execution_count": null,
   "metadata": {},
   "outputs": [],
   "source": []
  }
 ],
 "metadata": {
  "kernelspec": {
   "display_name": "Python 3",
   "language": "python",
   "name": "python3"
  },
  "language_info": {
   "codemirror_mode": {
    "name": "ipython",
    "version": 3
   },
   "file_extension": ".py",
   "mimetype": "text/x-python",
   "name": "python",
   "nbconvert_exporter": "python",
   "pygments_lexer": "ipython3",
   "version": "3.8.5"
  }
 },
 "nbformat": 4,
 "nbformat_minor": 4
}
