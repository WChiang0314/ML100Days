{
 "cells": [
  {
   "cell_type": "code",
   "execution_count": 1,
   "metadata": {},
   "outputs": [],
   "source": [
    "#離散均勻分配( Discrete Uniform Distribution )\n",
    "#伯努利分配( Bernoulli Distribution )\n",
    "#二項分配(Binomial Distribution)\n",
    "#負二項分配(Negative Binomial Distribution)\n",
    "#超幾何分配(Hypergeometric Distribution)"
   ]
  },
  {
   "cell_type": "code",
   "execution_count": 2,
   "metadata": {},
   "outputs": [],
   "source": [
    "#Q1: 大樂透的頭獎，你必須從49個挑選出 6 個號碼，\n",
    "#     且這六個號碼與頭獎的六個號碼一致，頭獎的機率是屬於哪一種分配?\n"
   ]
  },
  {
   "cell_type": "code",
   "execution_count": null,
   "metadata": {},
   "outputs": [],
   "source": [
    "#Ans: Hypergeometric Distribution\n",
    "#       由有限個物件中抽出n個物件，成功抽出指定種類的物件的個數（不歸還 （without replacement）)若隨機變量X 服從參數，則記為  H(n,K,N)，\n",
    "#       𝑁 : 共有幾個物件, 𝑁 =0,1,…\n",
    "#       𝐾 : 𝑁 個物件中，有 𝐾 個是你關心的物件類型個數, 𝐾 =0,1,2,…, 𝑁\n",
    "#       𝑛 : K個物件，要抽出 𝑛 個物件, 𝑛 =0,1,…, 𝑁"
   ]
  },
  {
   "cell_type": "code",
   "execution_count": 3,
   "metadata": {},
   "outputs": [],
   "source": [
    "#Q2: 運用範例的 python 程式碼，計算大樂透的中頭獎機率?"
   ]
  },
  {
   "cell_type": "code",
   "execution_count": 4,
   "metadata": {},
   "outputs": [],
   "source": [
    "# library\n",
    "import matplotlib.pyplot as plt\n",
    "import numpy as np\n",
    "import pandas as pd\n",
    "from scipy import stats\n",
    "import math\n",
    "import statistics"
   ]
  },
  {
   "cell_type": "code",
   "execution_count": 5,
   "metadata": {},
   "outputs": [
    {
     "name": "stdout",
     "output_type": "stream",
     "text": [
      "[0 1 2 3 4 5 6]\n",
      "[4.35964976e-01 4.13019450e-01 1.32378029e-01 1.76504039e-02\n",
      " 9.68619724e-04 1.84498995e-05 7.15112384e-08]\n",
      "<class 'numpy.ndarray'>\n"
     ]
    },
    {
     "data": {
      "image/png": "[encoded data removed]",
      "text/plain": [
       "<Figure size 432x288 with 1 Axes>"
      ]
     },
     "metadata": {
      "needs_background": "light"
     },
     "output_type": "display_data"
    }
   ],
   "source": [
    "# 1.定義超幾何分配的基本資訊\n",
    "N=49\n",
    "K=6\n",
    "n=6\n",
    "\n",
    "#產生一個同樣間隔的序列\n",
    "r = np.arange(0, min(n+1,K+1)) #產出 x 對應點\n",
    "print(r)\n",
    "\n",
    "# 2.計算機率質量函數 (probability mass function)\n",
    "# P(X=x) --> 是機率\n",
    "probs = stats.hypergeom.pmf(r, N,K,n)\n",
    "print(probs)\n",
    "print(type(probs))\n",
    "\n",
    "plt.bar(r, probs)\n",
    "plt.ylabel('P(X=x)')\n",
    "plt.xlabel('x')\n",
    "plt.title('pmf of Hypergeometric(N=49,K=6,n=6)')\n",
    "plt.show()"
   ]
  },
  {
   "cell_type": "code",
   "execution_count": 6,
   "metadata": {},
   "outputs": [
    {
     "data": {
      "text/plain": [
       "array([4.35964976e-01, 4.13019450e-01, 1.32378029e-01, 1.76504039e-02,\n",
       "       9.68619724e-04, 1.84498995e-05, 7.15112384e-08])"
      ]
     },
     "execution_count": 6,
     "metadata": {},
     "output_type": "execute_result"
    }
   ],
   "source": [
    "probs"
   ]
  },
  {
   "cell_type": "code",
   "execution_count": null,
   "metadata": {},
   "outputs": [],
   "source": [
    "#Q3: 你覺得電腦簽注的中獎機率，和人腦簽注相比，哪一個機率高?"
   ]
  },
  {
   "cell_type": "code",
   "execution_count": 11,
   "metadata": {},
   "outputs": [
    {
     "name": "stdout",
     "output_type": "stream",
     "text": [
      "[1 0 1 1 0 0]\n"
     ]
    },
    {
     "data": {
      "image/png": "[encoded data removed]",
      "text/plain": [
       "<Figure size 432x288 with 1 Axes>"
      ]
     },
     "metadata": {
      "needs_background": "light"
     },
     "output_type": "display_data"
    }
   ],
   "source": [
    "#產生符合超幾何分配的隨機樣本點 (random sample)\n",
    "X = stats.hypergeom.rvs(N,K,n,size=6)\n",
    "print(X)\n",
    "plt.hist(X,bins=25)\n",
    "plt.show()"
   ]
  },
  {
   "cell_type": "code",
   "execution_count": 12,
   "metadata": {},
   "outputs": [
    {
     "name": "stdout",
     "output_type": "stream",
     "text": [
      "(array(0.73469388), array(0.57757185), array(0.78217963), array(0.14594099))\n",
      "<class 'tuple'>\n",
      "negative hypergeom mean= 0.7346938775510203\n",
      "negative hypergeom variance= 0.5775718450645564\n",
      "negative hypergeom kurtosis= 0.7821796323806014\n",
      "negative hypergeom skew= 0.1459409933480724\n"
     ]
    }
   ],
   "source": [
    "#6.計算固定參數下，隨機變數的平均數、變異數、偏度和峰度。\n",
    "\n",
    "stat_hyperg=stats.hypergeom.stats(N,K,n,moments='mvks')\n",
    "print(stat_hyperg)\n",
    "print(type(stat_hyperg))\n",
    "#E(X)\n",
    "print(\"negative hypergeom mean=\",float(stat_hyperg[0]))\n",
    "print(\"negative hypergeom variance=\",float(stat_hyperg[1]))\n",
    "print(\"negative hypergeom kurtosis=\",float(stat_hyperg[2]))\n",
    "print(\"negative hypergeom skew=\",float(stat_hyperg[3]))"
   ]
  },
  {
   "cell_type": "code",
   "execution_count": null,
   "metadata": {},
   "outputs": [],
   "source": []
  }
 ],
 "metadata": {
  "kernelspec": {
   "display_name": "Python 3",
   "language": "python",
   "name": "python3"
  },
  "language_info": {
   "codemirror_mode": {
    "name": "ipython",
    "version": 3
   },
   "file_extension": ".py",
   "mimetype": "text/x-python",
   "name": "python",
   "nbconvert_exporter": "python",
   "pygments_lexer": "ipython3",
   "version": "3.8.5"
  }
 },
 "nbformat": 4,
 "nbformat_minor": 4
}
